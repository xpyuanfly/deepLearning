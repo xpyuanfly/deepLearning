{
 "cells": [
  {
   "cell_type": "code",
   "execution_count": 1,
   "id": "faccb983-9f6a-4dd3-a30e-6d451229f157",
   "metadata": {},
   "outputs": [
    {
     "name": "stdout",
     "output_type": "stream",
     "text": [
      "tensor([-4.], requires_grad=True) tensor([3.], requires_grad=True)\n",
      "tensor([1., 1.])\n",
      "tensor([-4.])\n",
      "tensor([3.])\n",
      "tensor([-4., -4.])\n"
     ]
    }
   ],
   "source": [
    "import torch#此例是模拟f=（x1+x2）*z的前向传播同时计算局部梯度过程\n",
    "x=torch.tensor([-2.,5.])\n",
    "x.requires_grad_(True)#申请存放对x求完导数的结果的空间\n",
    "q=x.sum()#q=x1+x2=-2.0+5.0\n",
    "q.backward()#对x1、x2分别求导其值都等于1\n",
    "z=torch.tensor([-4.])\n",
    "z.requires_grad_(True)#申请存放对z求完导数的结果的空间\n",
    "q_tensor=torch.tensor([q])#q是一个标量，不能申请空间，所以要把q变成个tensor\n",
    "q_tensor.requires_grad_(True)\n",
    "print(z,q_tensor)\n",
    "f=q_tensor*z\n",
    "f.backward()\n",
    "print(x.grad)\n",
    "print(q_tensor.grad)\n",
    "print(z.grad)\n",
    "# print(f)\n",
    "print(q_tensor.grad*x.grad)#反向传播求f对x1、x2求导的结果（是把前向传播路径中的局部梯度都乘起来）\n",
    "\n"
   ]
  },
  {
   "cell_type": "code",
   "execution_count": null,
   "id": "0253ae1e",
   "metadata": {},
   "outputs": [],
   "source": []
  },
  {
   "cell_type": "code",
   "execution_count": null,
   "id": "de2879fd",
   "metadata": {},
   "outputs": [],
   "source": []
  }
 ],
 "metadata": {
  "kernelspec": {
   "display_name": "Python 3.8.13 ('limu')",
   "language": "python",
   "name": "python3"
  },
  "language_info": {
   "codemirror_mode": {
    "name": "ipython",
    "version": 3
   },
   "file_extension": ".py",
   "mimetype": "text/x-python",
   "name": "python",
   "nbconvert_exporter": "python",
   "pygments_lexer": "ipython3",
   "version": "3.8.13"
  },
  "vscode": {
   "interpreter": {
    "hash": "c398f8c1f568230b48f9ac6d5e2abffc23dca89918bbb134fc223d998f050914"
   }
  }
 },
 "nbformat": 4,
 "nbformat_minor": 5
}
