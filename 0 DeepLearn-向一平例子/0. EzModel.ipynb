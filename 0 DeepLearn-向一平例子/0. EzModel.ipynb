{
 "cells": [
  {
   "cell_type": "markdown",
   "id": "e51cf636-0bc7-49dd-b77b-2acdf9714ebe",
   "metadata": {
    "jp-MarkdownHeadingCollapsed": true,
    "slideshow": {
     "slide_type": "slide"
    },
    "tags": []
   },
   "source": [
    "## 问题描述\n",
    "让神经网络学会能否被3整除操作"
   ]
  },
  {
   "cell_type": "markdown",
   "id": "3abaf941-93fc-4551-91fa-6620dfa1b31c",
   "metadata": {
    "slideshow": {
     "slide_type": "subslide"
    }
   },
   "source": [
    "输入：任意一个整数\n",
    "\n",
    "输出：能被3整除，输出“yes”，否则输出“no”"
   ]
  },
  {
   "cell_type": "markdown",
   "id": "a90477d9-93f9-438c-9ddc-8d69dc6ebb3c",
   "metadata": {
    "jp-MarkdownHeadingCollapsed": true,
    "slideshow": {
     "slide_type": "slide"
    },
    "tags": []
   },
   "source": [
    "### 网络结构图"
   ]
  },
  {
   "attachments": {
    "7c33f13b-5cc7-4806-9dfd-41bc93e06b01.png": {
     "image/png": "[encoded data removed]"
    }
   },
   "cell_type": "markdown",
   "id": "185f16fa-ff62-45e8-99aa-1cd8d2b1bad8",
   "metadata": {},
   "source": [
    "![图片1.png](attachment:7c33f13b-5cc7-4806-9dfd-41bc93e06b01.png)\n",
    "\n",
    "![mlp](https://zh-v2.d2l.ai/_images/mlp.svg)"
   ]
  },
  {
   "cell_type": "markdown",
   "id": "02c17ff4-cbe7-4810-a612-fa9aad23ec9c",
   "metadata": {
    "slideshow": {
     "slide_type": "slide"
    },
    "tags": []
   },
   "source": [
    "## STEP 1：数据处理"
   ]
  },
  {
   "cell_type": "code",
   "execution_count": 2,
   "id": "20d778c2-f207-4cc5-9ae3-e4de52515592",
   "metadata": {
    "slideshow": {
     "slide_type": "notes"
    }
   },
   "outputs": [],
   "source": [
    "import torch\n",
    "import numpy as np\n",
    "import torch.nn as nn\n",
    "import torch.optim as optim\n",
    "import torch.utils.data as data"
   ]
  },
  {
   "cell_type": "code",
   "execution_count": 3,
   "id": "d7264c11-47ac-40ff-aff5-133e56f2083f",
   "metadata": {
    "slideshow": {
     "slide_type": "slide"
    }
   },
   "outputs": [],
   "source": [
    "# 构建编码器\n",
    "def encode(number):\n",
    "    if number % 3 == 0:\n",
    "        return 1\n",
    "    return 0"
   ]
  },
  {
   "cell_type": "code",
   "execution_count": 4,
   "id": "3e2a8e7d-12d1-450e-a07f-17ad24caeaa0",
   "metadata": {
    "slideshow": {
     "slide_type": "slide"
    }
   },
   "outputs": [],
   "source": [
    "# 构建解码器\n",
    "def decode(label):\n",
    "    return ['no', 'yes'][label]"
   ]
  },
  {
   "cell_type": "code",
   "execution_count": 5,
   "id": "3db7ee32-c9b4-440e-813c-19b3e031cae3",
   "metadata": {},
   "outputs": [],
   "source": [
    "digit = 64"
   ]
  },
  {
   "cell_type": "code",
   "execution_count": 6,
   "id": "137c4a59-9d83-4ab2-bbb8-b6af7a13a845",
   "metadata": {
    "slideshow": {
     "slide_type": "slide"
    }
   },
   "outputs": [],
   "source": [
    "def to_bin(number):\n",
    "    return np.array([number >> dim & 1 for dim in range(digit)][::-1])"
   ]
  },
  {
   "cell_type": "code",
   "execution_count": 7,
   "id": "c387c550-6a83-4c7d-b7b7-b569a0a6bcad",
   "metadata": {
    "slideshow": {
     "slide_type": "slide"
    }
   },
   "outputs": [],
   "source": [
    "def to_input(number):\n",
    "    return torch.Tensor(to_bin(number))"
   ]
  },
  {
   "cell_type": "code",
   "execution_count": 8,
   "id": "e4584b61-8ee6-4f7b-b7b5-6772630a2c1c",
   "metadata": {},
   "outputs": [],
   "source": [
    "data_max_val = 100000\n",
    "val_sum = 500\n",
    "test_sum = 1000"
   ]
  },
  {
   "cell_type": "code",
   "execution_count": 9,
   "id": "2f7dac44-7594-4be4-ab5a-0d12b3226b8f",
   "metadata": {
    "slideshow": {
     "slide_type": "slide"
    }
   },
   "outputs": [
    {
     "name": "stderr",
     "output_type": "stream",
     "text": [
      "C:\\Users\\yxp\\AppData\\Local\\Temp\\ipykernel_24044\\3711597908.py:2: UserWarning: Creating a tensor from a list of numpy.ndarrays is extremely slow. Please consider converting the list to a single numpy.ndarray with numpy.array() before converting to a tensor. (Triggered internally at  C:\\Users\\builder\\tkoch\\workspace\\pytorch\\pytorch_1647970138273\\work\\torch\\csrc\\utils\\tensor_new.cpp:201.)\n",
      "  train_numbers = torch.Tensor([to_bin(number) for number in range(1, data_max_val)])\n"
     ]
    }
   ],
   "source": [
    "# 构建数据集\n",
    "train_numbers = torch.Tensor([to_bin(number) for number in range(1, data_max_val)])\n",
    "train_labels = torch.LongTensor([encode(number) for number in range(1, data_max_val)])"
   ]
  },
  {
   "cell_type": "code",
   "execution_count": 10,
   "id": "39cef1fd-ae19-4ed0-8e9f-b128a8b1c401",
   "metadata": {
    "slideshow": {
     "slide_type": "slide"
    }
   },
   "outputs": [],
   "source": [
    "import random"
   ]
  },
  {
   "cell_type": "code",
   "execution_count": 11,
   "id": "8d952ce0-bb5f-4754-89cb-60870ab2f3dc",
   "metadata": {
    "slideshow": {
     "slide_type": "slide"
    }
   },
   "outputs": [],
   "source": [
    "val_numbers = torch.Tensor([to_bin(number) for number in range(data_max_val, data_max_val + val_sum)])\n",
    "val_labels = torch.LongTensor([random.randint(0, 1) for number in range(data_max_val, data_max_val + val_sum)])"
   ]
  },
  {
   "cell_type": "code",
   "execution_count": 12,
   "id": "27a92cbc-51e9-4ac9-af68-3862d7d396ef",
   "metadata": {
    "slideshow": {
     "slide_type": "slide"
    }
   },
   "outputs": [],
   "source": [
    "test_numbers = torch.Tensor([to_bin(number) for number in range(data_max_val + val_sum + 1, data_max_val + val_sum + 1 + test_sum)])\n",
    "test_labels = torch.LongTensor([encode(number) for number in range(data_max_val + val_sum + 1, data_max_val + val_sum+1 + test_sum)])"
   ]
  },
  {
   "cell_type": "code",
   "execution_count": 13,
   "id": "9af84b71-820e-4f41-812f-70a622e7ec95",
   "metadata": {
    "slideshow": {
     "slide_type": "slide"
    }
   },
   "outputs": [],
   "source": [
    "# 加载数据集\n",
    "class TriDataset(data.Dataset):\n",
    "    def __init__(self, numbers, labels):\n",
    "        self.numbers = numbers\n",
    "        self.labels = labels\n",
    "    \n",
    "    def __getitem__(self, idx):\n",
    "        return self.numbers[idx], self.labels[idx]\n",
    "    \n",
    "    def __len__(self):\n",
    "        return len(self.numbers)"
   ]
  },
  {
   "cell_type": "code",
   "execution_count": 14,
   "id": "732f547d-5537-4661-90e3-58c191199732",
   "metadata": {},
   "outputs": [],
   "source": [
    "batchSize = 64"
   ]
  },
  {
   "cell_type": "code",
   "execution_count": 15,
   "id": "e56bb426-fe9d-45a8-967e-37893cd08b38",
   "metadata": {
    "slideshow": {
     "slide_type": "slide"
    }
   },
   "outputs": [],
   "source": [
    "train_dataset = TriDataset(train_numbers, train_labels)\n",
    "train_loader = data.DataLoader(train_dataset, batch_size=batchSize, shuffle=True)"
   ]
  },
  {
   "cell_type": "code",
   "execution_count": 16,
   "id": "4cba841d-a45c-482d-9b53-2067470bd6d5",
   "metadata": {
    "slideshow": {
     "slide_type": "slide"
    }
   },
   "outputs": [],
   "source": [
    "val_dataset = TriDataset(val_numbers, val_labels)\n",
    "val_loader = data.DataLoader(val_dataset, batch_size=batchSize, shuffle=True)"
   ]
  },
  {
   "cell_type": "code",
   "execution_count": 17,
   "id": "dccf7594-4128-4973-a3ef-ebf75236aed4",
   "metadata": {
    "slideshow": {
     "slide_type": "slide"
    }
   },
   "outputs": [],
   "source": [
    "test_dataset = TriDataset(test_numbers, test_labels)\n",
    "test_loader = data.DataLoader(test_dataset, batch_size=batchSize, shuffle=True)"
   ]
  },
  {
   "cell_type": "markdown",
   "id": "e4e7867c-26a8-4f1b-afd7-2233fe1b895f",
   "metadata": {
    "slideshow": {
     "slide_type": "slide"
    },
    "tags": []
   },
   "source": [
    "## STEP 2：构建模型"
   ]
  },
  {
   "cell_type": "code",
   "execution_count": 18,
   "id": "0f076d8f-3e7f-4f02-87d6-50bd8944370e",
   "metadata": {
    "slideshow": {
     "slide_type": "slide"
    }
   },
   "outputs": [],
   "source": [
    "device = torch.device('cuda' if torch.cuda.is_available() else 'cpu')"
   ]
  },
  {
   "cell_type": "code",
   "execution_count": 19,
   "id": "0bb65f38-608c-4a98-b96f-350c2ba6da33",
   "metadata": {
    "slideshow": {
     "slide_type": "slide"
    }
   },
   "outputs": [],
   "source": [
    "class TriModel(nn.Module):\n",
    "    def __init__(self):\n",
    "        super(TriModel, self).__init__()\n",
    "        dim1 = int(digit)\n",
    "        dim2 = int(dim1/4)\n",
    "        dim3 = int(dim2/2)\n",
    "        self.architecture = nn.Sequential(\n",
    "            nn.Linear(dim1, dim2),\n",
    "            nn.ReLU(),\n",
    "            nn.Linear(dim2, dim3),\n",
    "            nn.ReLU(),\n",
    "            nn.Linear(dim3, 2)\n",
    "        )\n",
    "\n",
    "    def forward(self, x):\n",
    "        return self.architecture(x)"
   ]
  },
  {
   "cell_type": "code",
   "execution_count": 20,
   "id": "769cefb8-ba2c-4215-a317-07162847eccd",
   "metadata": {
    "slideshow": {
     "slide_type": "slide"
    }
   },
   "outputs": [],
   "source": [
    "model = TriModel().to(device)\n",
    "loss_f = nn.CrossEntropyLoss()\n",
    "optimizer = optim.AdamW(model.parameters(), lr=1e-5)"
   ]
  },
  {
   "cell_type": "markdown",
   "id": "84e41306-e149-4e4a-a8f2-5312c0b95e63",
   "metadata": {
    "slideshow": {
     "slide_type": "slide"
    },
    "tags": []
   },
   "source": [
    "## STEP 3：训练模型"
   ]
  },
  {
   "cell_type": "code",
   "execution_count": 21,
   "id": "cc364a81-0657-4497-8303-d8b5e9cae29f",
   "metadata": {
    "slideshow": {
     "slide_type": "subslide"
    }
   },
   "outputs": [],
   "source": [
    "from tqdm import tqdm\n",
    "from matplotlib import pyplot as plt\n",
    "from matplotlib import ticker as ticker"
   ]
  },
  {
   "cell_type": "code",
   "execution_count": 22,
   "id": "13585557-e38f-41d5-bcb8-0e30804f3bf9",
   "metadata": {
    "slideshow": {
     "slide_type": "subslide"
    }
   },
   "outputs": [],
   "source": [
    "def draw(xaxis, yaxis, xlabel, ylabel, legend):\n",
    "    ax = plt.figure().gca()\n",
    "    ax.xaxis.set_major_locator(ticker.MaxNLocator(integer=True))\n",
    "\n",
    "    plt.plot(xaxis, yaxis, label=legend)\n",
    "    plt.xlabel(xlabel)\n",
    "    plt.ylabel(ylabel)\n",
    "    if legend != None:\n",
    "        plt.legend()\n",
    "    plt.show()"
   ]
  },
  {
   "cell_type": "code",
   "execution_count": 23,
   "id": "8700c727-2dd1-4a02-841f-7aca87cead87",
   "metadata": {
    "slideshow": {
     "slide_type": "subslide"
    }
   },
   "outputs": [
    {
     "name": "stderr",
     "output_type": "stream",
     "text": [
      "train process: 100%|██████████| 100/100 [02:18<00:00,  1.39s/it]\n"
     ]
    },
    {
     "data": {
      "image/png": "[encoded data removed]",
      "text/plain": [
       "<Figure size 432x288 with 1 Axes>"
      ]
     },
     "metadata": {
      "needs_background": "light"
     },
     "output_type": "display_data"
    }
   ],
   "source": [
    "# train\n",
    "epochs = 100\n",
    "loss_lst = []\n",
    "\n",
    "model.train()\n",
    "for epoch in tqdm(range(epochs), desc='train process'):\n",
    "    loss_sum = 0\n",
    "    for x, y in train_loader:\n",
    "        x = x.to(device)\n",
    "        y = y.to(device)\n",
    "\n",
    "        pred = model(x)\n",
    "        loss = loss_f(pred, y)\n",
    "\n",
    "        loss_sum = loss_sum + loss\n",
    "\n",
    "        loss.backward()\n",
    "        optimizer.step()\n",
    "        optimizer.zero_grad()\n",
    "    loss_lst.append(float((loss_sum / len(train_loader)).detach()))\n",
    "draw(list(range(epochs)), loss_lst, 'epoch', 'avg_loss', None)"
   ]
  },
  {
   "cell_type": "code",
   "execution_count": 23,
   "id": "68abe946-1260-4056-875d-3eea88926ceb",
   "metadata": {
    "slideshow": {
     "slide_type": "subslide"
    }
   },
   "outputs": [
    {
     "name": "stderr",
     "output_type": "stream",
     "text": [
      "val process: 100%|█████████████████████████████████████████████████████████████████████| 10/10 [00:11<00:00,  1.20s/it]\n"
     ]
    }
   ],
   "source": [
    "# validate\n",
    "val_epoch = 10\n",
    "\n",
    "min_loss = 99999\n",
    "good_idx = -1\n",
    "\n",
    "model.eval()\n",
    "for epoch in tqdm(range(val_epoch), desc='val process'):\n",
    "    loss_sum = 0\n",
    "    for i, (x, y) in enumerate(train_loader):\n",
    "        x = x.to(device)\n",
    "        y = y.to(device)\n",
    "\n",
    "        pred = model(x)\n",
    "        loss = loss_f(pred, y)\n",
    "        loss_sum = loss_sum + loss\n",
    "    avg_loss = loss_sum/epochs\n",
    "    if avg_loss < min_loss:\n",
    "        min_loss = avg_loss\n",
    "        good_idx = i\n",
    "        torch.save(model, './model.bin')"
   ]
  },
  {
   "cell_type": "code",
   "execution_count": 24,
   "id": "c62a0b1b-01f0-4009-a8fd-5c2a26b4ae91",
   "metadata": {
    "slideshow": {
     "slide_type": "subslide"
    }
   },
   "outputs": [],
   "source": [
    "from sklearn.metrics import f1_score\n",
    "from sklearn.metrics import accuracy_score"
   ]
  },
  {
   "cell_type": "code",
   "execution_count": 25,
   "id": "5973e2ee-28cc-473d-9ca6-4fb2803cb882",
   "metadata": {
    "slideshow": {
     "slide_type": "subslide"
    }
   },
   "outputs": [
    {
     "name": "stdout",
     "output_type": "stream",
     "text": [
      "acc: 0.50703125 f1: 0.3978082611997896\n"
     ]
    }
   ],
   "source": [
    "# test\n",
    "best_model = torch.load('./model.bin').to(device)\n",
    "softmax = nn.Softmax(0)\n",
    "\n",
    "f1 = 0\n",
    "acc = 0\n",
    "\n",
    "for i, (x, y) in enumerate(test_loader):\n",
    "    x = x.to(device)\n",
    "    y = y.to(device)\n",
    "\n",
    "    pred = np.argmax(softmax(best_model(x)).cpu().detach().numpy(), 1)\n",
    "    y = np.array(y.cpu().detach().numpy())\n",
    "    f1 = f1 + f1_score(y, pred)\n",
    "    acc = acc + accuracy_score(y, pred)\n",
    "\n",
    "f1 = f1 / len(test_loader)\n",
    "acc = acc / len(test_loader)\n",
    "\n",
    "print('acc:', acc, 'f1:', f1)"
   ]
  },
  {
   "cell_type": "markdown",
   "id": "f354e57d-c3f9-47b2-8846-dbe1f5822faa",
   "metadata": {
    "jp-MarkdownHeadingCollapsed": true,
    "slideshow": {
     "slide_type": "subslide"
    },
    "tags": []
   },
   "source": [
    "## 使用训练好的模型"
   ]
  },
  {
   "cell_type": "code",
   "execution_count": 26,
   "id": "be43e5f0-1259-4c61-aec8-e03f371ee257",
   "metadata": {
    "slideshow": {
     "slide_type": "subslide"
    }
   },
   "outputs": [
    {
     "data": {
      "text/plain": [
       "'no'"
      ]
     },
     "execution_count": 26,
     "metadata": {},
     "output_type": "execute_result"
    }
   ],
   "source": [
    "val = -3\n",
    "output = best_model(to_input(val).to(device))\n",
    "output = softmax(output)\n",
    "output = np.argmax(output.cpu().detach().numpy(), 0)\n",
    "\n",
    "decode(output)"
   ]
  },
  {
   "cell_type": "code",
   "execution_count": 27,
   "id": "a8db920d-2959-4136-a1b0-c07ec92c4abd",
   "metadata": {
    "slideshow": {
     "slide_type": "subslide"
    }
   },
   "outputs": [
    {
     "data": {
      "text/plain": [
       "'no'"
      ]
     },
     "execution_count": 27,
     "metadata": {},
     "output_type": "execute_result"
    }
   ],
   "source": [
    "val = -4\n",
    "output = best_model(to_input(val).to(device))\n",
    "output = softmax(output)\n",
    "output = np.argmax(output.cpu().detach().numpy(), 0)\n",
    "\n",
    "decode(output)"
   ]
  }
 ],
 "metadata": {
  "celltoolbar": "幻灯片",
  "kernelspec": {
   "display_name": "Python 3 (ipykernel)",
   "language": "python",
   "name": "python3"
  },
  "language_info": {
   "codemirror_mode": {
    "name": "ipython",
    "version": 3
   },
   "file_extension": ".py",
   "mimetype": "text/x-python",
   "name": "python",
   "nbconvert_exporter": "python",
   "pygments_lexer": "ipython3",
   "version": "3.9.12"
  }
 },
 "nbformat": 4,
 "nbformat_minor": 5
}
