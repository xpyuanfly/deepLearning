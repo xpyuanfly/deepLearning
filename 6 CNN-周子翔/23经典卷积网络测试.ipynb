{
 "cells": [
  {
   "cell_type": "code",
   "execution_count": 1,
   "metadata": {},
   "outputs": [],
   "source": [
    "import cv2\n",
    "import numpy as np\n",
    "import matplotlib.pyplot as plt\n",
    "import torch\n",
    "from torch import nn\n",
    "from torch.autograd import Variable\n",
    "import os\n",
    "\n",
    "img = cv2.imread('number.png',0)\n",
    "img = cv2.resize(img,(28,28))\n",
    "img = img.reshape(1,1,28,28)\n",
    "img = img/255\n",
    "img = torch.tensor(img)\n",
    "img = img.to(torch.float32)\n"
   ]
  },
  {
   "cell_type": "code",
   "execution_count": 2,
   "metadata": {},
   "outputs": [
    {
     "data": {
      "text/plain": [
       "<All keys matched successfully>"
      ]
     },
     "execution_count": 2,
     "metadata": {},
     "output_type": "execute_result"
    }
   ],
   "source": [
    "class MyLeNet(nn.Module):\n",
    "    def __init__(self):\n",
    "        super(MyLeNet,self).__init__()\n",
    "        \n",
    "        self.Sigmoid = nn.Sigmoid()\n",
    "        self.c1 = nn.Conv2d(in_channels=1,out_channels=6,kernel_size=5,padding=2)\n",
    "        self.s2 = nn.AvgPool2d(kernel_size=2,stride=2)     #池化层\n",
    "        self.c3 = nn.Conv2d(in_channels=6,out_channels=16,kernel_size=5)\n",
    "        self.s4 = nn.AvgPool2d(kernel_size=2,stride=2)     #池化层\n",
    "        self.c5 = nn.Conv2d(in_channels=16,out_channels=120,kernel_size=5)\n",
    "\n",
    "        self.flatten = nn.Flatten()\n",
    "        self.f6 = nn.Linear(120,84)\n",
    "        self.output = nn.Linear(84,10)\n",
    "\n",
    "    def forward(self, x):\n",
    "        x = self.Sigmoid(self.c1(x))\n",
    "        x = self.s2(x)\n",
    "        x = self.Sigmoid(self.c3(x))\n",
    "        x = self.s4(x)\n",
    "        x = self.c5(x)\n",
    "        x = self.flatten(x)\n",
    "        x = self.f6(x)\n",
    "        x = self.output(x)\n",
    "\n",
    "        return x\n",
    "model = MyLeNet()\n",
    "model.load_state_dict(torch.load(\"F:/MyScripts/ipynb/2022暑假动手学深度学习/save_model/best_model.pth\"))"
   ]
  },
  {
   "cell_type": "code",
   "execution_count": 3,
   "metadata": {},
   "outputs": [
    {
     "name": "stdout",
     "output_type": "stream",
     "text": [
      "tensor(8)\n",
      "这个数字为 8\n",
      "tensor([-0.7207, -3.7985,  2.8990,  4.0016, -2.8740,  3.8815,  0.8029, -6.1069,\n",
      "         6.6061, -3.4415], grad_fn=<SelectBackward0>)\n"
     ]
    }
   ],
   "source": [
    "pred = model(img)\n",
    "classes = [\n",
    "    \"0\",\n",
    "    \"1\",\n",
    "    \"2\",\n",
    "    \"3\",\n",
    "    \"4\",\n",
    "    \"5\",\n",
    "    \"6\",\n",
    "    \"7\",\n",
    "    \"8\",\n",
    "    \"9\",\n",
    "]\n",
    "print(torch.argmax(pred[0]))\n",
    "print(\"这个数字为\",classes[torch.argmax(pred[0])])\n",
    "print(pred[0])"
   ]
  },
  {
   "cell_type": "code",
   "execution_count": 8,
   "metadata": {},
   "outputs": [
    {
     "data": {
      "text/plain": [
       "tensor(True)"
      ]
     },
     "execution_count": 8,
     "metadata": {},
     "output_type": "execute_result"
    }
   ],
   "source": [
    "t = torch.tensor(8)\n",
    "t == 8\n"
   ]
  }
 ],
 "metadata": {
  "kernelspec": {
   "display_name": "Python 3.9.12 ('base')",
   "language": "python",
   "name": "python3"
  },
  "language_info": {
   "codemirror_mode": {
    "name": "ipython",
    "version": 3
   },
   "file_extension": ".py",
   "mimetype": "text/x-python",
   "name": "python",
   "nbconvert_exporter": "python",
   "pygments_lexer": "ipython3",
   "version": "3.9.12"
  },
  "orig_nbformat": 4,
  "vscode": {
   "interpreter": {
    "hash": "1b686bce94f1f5e3a877538288a78f4cd7ad55f299eaf18263d0af458c697d30"
   }
  }
 },
 "nbformat": 4,
 "nbformat_minor": 2
}
